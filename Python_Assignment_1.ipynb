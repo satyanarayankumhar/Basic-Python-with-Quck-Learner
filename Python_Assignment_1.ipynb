{
 "cells": [
  {
   "cell_type": "markdown",
   "id": "ca08b2d9-1a7e-4aab-8c87-c922cc12557f",
   "metadata": {},
   "source": [
    "Q.1 Write all the conventions being followed while declaring a variable."
   ]
  },
  {
   "cell_type": "code",
   "execution_count": 13,
   "id": "4d1cceb3-f521-4059-b0ba-506a6a116ff8",
   "metadata": {},
   "outputs": [],
   "source": [
    "# The variable start with alpha ccharacter and underscore, but could not start with digits for example:\n",
    "#     (a-z, A-Z, and _)\n",
    "\n",
    "First_Name=\"Stranger\"\n",
    "Last_Name=\"person\"\n",
    "Num1=25\n",
    "_N=36"
   ]
  },
  {
   "cell_type": "code",
   "execution_count": 17,
   "id": "e1985207-e9d7-4cc8-81b9-6b5e1a6c24b8",
   "metadata": {},
   "outputs": [
    {
     "name": "stdout",
     "output_type": "stream",
     "text": [
      "Stranger , person , 25 , 36\n"
     ]
    }
   ],
   "source": [
    "print(First_Name,\",\",Last_Name,\",\",Num1,\",\",_N)"
   ]
  },
  {
   "cell_type": "markdown",
   "id": "de3eea6e-ad69-4704-9e57-8ab51b116281",
   "metadata": {},
   "source": [
    "Q2. What will happen if we declare a restricted keyword as a variable?"
   ]
  },
  {
   "cell_type": "code",
   "execution_count": 18,
   "id": "c8afd2ab-bf96-426d-862d-0fea5dddfd29",
   "metadata": {},
   "outputs": [
    {
     "ename": "SyntaxError",
     "evalue": "cannot assign to None (2521799727.py, line 1)",
     "output_type": "error",
     "traceback": [
      "\u001b[0;36m  Cell \u001b[0;32mIn[18], line 1\u001b[0;36m\u001b[0m\n\u001b[0;31m    None=5\u001b[0m\n\u001b[0m    ^\u001b[0m\n\u001b[0;31mSyntaxError\u001b[0m\u001b[0;31m:\u001b[0m cannot assign to None\n"
     ]
    }
   ],
   "source": [
    "# as a variable name can not assign the values because of they keywords have already stored/reserved.that is why not able to\n",
    "#assign the values.\n",
    "\n",
    "None=5"
   ]
  },
  {
   "cell_type": "code",
   "execution_count": null,
   "id": "f2cf47f7-81a3-4e64-962c-6c256b864c85",
   "metadata": {},
   "outputs": [],
   "source": []
  }
 ],
 "metadata": {
  "kernelspec": {
   "display_name": "Python 3 (ipykernel)",
   "language": "python",
   "name": "python3"
  },
  "language_info": {
   "codemirror_mode": {
    "name": "ipython",
    "version": 3
   },
   "file_extension": ".py",
   "mimetype": "text/x-python",
   "name": "python",
   "nbconvert_exporter": "python",
   "pygments_lexer": "ipython3",
   "version": "3.10.8"
  }
 },
 "nbformat": 4,
 "nbformat_minor": 5
}
